{
 "cells": [
  {
   "cell_type": "markdown",
   "id": "23179c1c",
   "metadata": {},
   "source": [
    "# MIS: Data Science Programming \n",
    "# Group 18 - HW2 \n",
    "---\n",
    "## Names - Aishwarya Sarkar, Shubhada Kapre, Krish Engineer, Prathmesh Savale\n"
   ]
  },
  {
   "cell_type": "code",
   "execution_count": 335,
   "id": "70b07d64",
   "metadata": {},
   "outputs": [
    {
     "data": {
      "text/html": [
       "<div>\n",
       "<style scoped>\n",
       "    .dataframe tbody tr th:only-of-type {\n",
       "        vertical-align: middle;\n",
       "    }\n",
       "\n",
       "    .dataframe tbody tr th {\n",
       "        vertical-align: top;\n",
       "    }\n",
       "\n",
       "    .dataframe thead th {\n",
       "        text-align: right;\n",
       "    }\n",
       "</style>\n",
       "<table border=\"1\" class=\"dataframe\">\n",
       "  <thead>\n",
       "    <tr style=\"text-align: right;\">\n",
       "      <th></th>\n",
       "      <th>CAMIS</th>\n",
       "      <th>DBA</th>\n",
       "      <th>BORO</th>\n",
       "      <th>BUILDING</th>\n",
       "      <th>STREET</th>\n",
       "      <th>ZIPCODE</th>\n",
       "      <th>PHONE</th>\n",
       "      <th>CUISINE DESCRIPTION</th>\n",
       "      <th>INSPECTION DATE</th>\n",
       "      <th>ACTION</th>\n",
       "      <th>VIOLATION CODE</th>\n",
       "      <th>VIOLATION DESCRIPTION</th>\n",
       "      <th>CRITICAL FLAG</th>\n",
       "      <th>SCORE</th>\n",
       "      <th>GRADE</th>\n",
       "      <th>GRADE DATE</th>\n",
       "      <th>RECORD DATE</th>\n",
       "      <th>INSPECTION TYPE</th>\n",
       "    </tr>\n",
       "  </thead>\n",
       "  <tbody>\n",
       "    <tr>\n",
       "      <th>0</th>\n",
       "      <td>30112340</td>\n",
       "      <td>WENDY'S</td>\n",
       "      <td>BROOKLYN</td>\n",
       "      <td>469</td>\n",
       "      <td>FLATBUSH AVENUE</td>\n",
       "      <td>11225</td>\n",
       "      <td>7182875005</td>\n",
       "      <td>Hamburgers</td>\n",
       "      <td>12/30/2014</td>\n",
       "      <td>Violations were cited in the following area(s).</td>\n",
       "      <td>06C</td>\n",
       "      <td>Food not protected from potential source of co...</td>\n",
       "      <td>Critical</td>\n",
       "      <td>8</td>\n",
       "      <td>A</td>\n",
       "      <td>12/30/2014</td>\n",
       "      <td>02/12/2015</td>\n",
       "      <td>Cycle Inspection / Re-inspection</td>\n",
       "    </tr>\n",
       "    <tr>\n",
       "      <th>1</th>\n",
       "      <td>30112340</td>\n",
       "      <td>WENDY'S</td>\n",
       "      <td>BROOKLYN</td>\n",
       "      <td>469</td>\n",
       "      <td>FLATBUSH AVENUE</td>\n",
       "      <td>11225</td>\n",
       "      <td>7182875005</td>\n",
       "      <td>Hamburgers</td>\n",
       "      <td>12/30/2014</td>\n",
       "      <td>Violations were cited in the following area(s).</td>\n",
       "      <td>10F</td>\n",
       "      <td>Non-food contact surface improperly constructe...</td>\n",
       "      <td>Not Critical</td>\n",
       "      <td>8</td>\n",
       "      <td>A</td>\n",
       "      <td>12/30/2014</td>\n",
       "      <td>02/12/2015</td>\n",
       "      <td>Cycle Inspection / Re-inspection</td>\n",
       "    </tr>\n",
       "    <tr>\n",
       "      <th>2</th>\n",
       "      <td>30112340</td>\n",
       "      <td>WENDY'S</td>\n",
       "      <td>BROOKLYN</td>\n",
       "      <td>469</td>\n",
       "      <td>FLATBUSH AVENUE</td>\n",
       "      <td>11225</td>\n",
       "      <td>7182875005</td>\n",
       "      <td>Hamburgers</td>\n",
       "      <td>11/13/2014</td>\n",
       "      <td>Violations were cited in the following area(s).</td>\n",
       "      <td>04H</td>\n",
       "      <td>Raw, cooked or prepared food is adulterated, c...</td>\n",
       "      <td>Critical</td>\n",
       "      <td>16</td>\n",
       "      <td>NaN</td>\n",
       "      <td>NaN</td>\n",
       "      <td>02/12/2015</td>\n",
       "      <td>Cycle Inspection / Initial Inspection</td>\n",
       "    </tr>\n",
       "    <tr>\n",
       "      <th>3</th>\n",
       "      <td>30112340</td>\n",
       "      <td>WENDY'S</td>\n",
       "      <td>BROOKLYN</td>\n",
       "      <td>469</td>\n",
       "      <td>FLATBUSH AVENUE</td>\n",
       "      <td>11225</td>\n",
       "      <td>7182875005</td>\n",
       "      <td>Hamburgers</td>\n",
       "      <td>11/13/2014</td>\n",
       "      <td>Violations were cited in the following area(s).</td>\n",
       "      <td>06A</td>\n",
       "      <td>Personal cleanliness inadequate. Outer garment...</td>\n",
       "      <td>Critical</td>\n",
       "      <td>16</td>\n",
       "      <td>NaN</td>\n",
       "      <td>NaN</td>\n",
       "      <td>02/12/2015</td>\n",
       "      <td>Cycle Inspection / Initial Inspection</td>\n",
       "    </tr>\n",
       "    <tr>\n",
       "      <th>4</th>\n",
       "      <td>30112340</td>\n",
       "      <td>WENDY'S</td>\n",
       "      <td>BROOKLYN</td>\n",
       "      <td>469</td>\n",
       "      <td>FLATBUSH AVENUE</td>\n",
       "      <td>11225</td>\n",
       "      <td>7182875005</td>\n",
       "      <td>Hamburgers</td>\n",
       "      <td>11/13/2014</td>\n",
       "      <td>Violations were cited in the following area(s).</td>\n",
       "      <td>10F</td>\n",
       "      <td>Non-food contact surface improperly constructe...</td>\n",
       "      <td>Not Critical</td>\n",
       "      <td>16</td>\n",
       "      <td>NaN</td>\n",
       "      <td>NaN</td>\n",
       "      <td>02/12/2015</td>\n",
       "      <td>Cycle Inspection / Initial Inspection</td>\n",
       "    </tr>\n",
       "  </tbody>\n",
       "</table>\n",
       "</div>"
      ],
      "text/plain": [
       "      CAMIS      DBA      BORO BUILDING           STREET ZIPCODE       PHONE  \\\n",
       "0  30112340  WENDY'S  BROOKLYN      469  FLATBUSH AVENUE   11225  7182875005   \n",
       "1  30112340  WENDY'S  BROOKLYN      469  FLATBUSH AVENUE   11225  7182875005   \n",
       "2  30112340  WENDY'S  BROOKLYN      469  FLATBUSH AVENUE   11225  7182875005   \n",
       "3  30112340  WENDY'S  BROOKLYN      469  FLATBUSH AVENUE   11225  7182875005   \n",
       "4  30112340  WENDY'S  BROOKLYN      469  FLATBUSH AVENUE   11225  7182875005   \n",
       "\n",
       "  CUISINE DESCRIPTION INSPECTION DATE  \\\n",
       "0          Hamburgers      12/30/2014   \n",
       "1          Hamburgers      12/30/2014   \n",
       "2          Hamburgers      11/13/2014   \n",
       "3          Hamburgers      11/13/2014   \n",
       "4          Hamburgers      11/13/2014   \n",
       "\n",
       "                                            ACTION VIOLATION CODE  \\\n",
       "0  Violations were cited in the following area(s).            06C   \n",
       "1  Violations were cited in the following area(s).            10F   \n",
       "2  Violations were cited in the following area(s).            04H   \n",
       "3  Violations were cited in the following area(s).            06A   \n",
       "4  Violations were cited in the following area(s).            10F   \n",
       "\n",
       "                               VIOLATION DESCRIPTION CRITICAL FLAG SCORE  \\\n",
       "0  Food not protected from potential source of co...      Critical     8   \n",
       "1  Non-food contact surface improperly constructe...  Not Critical     8   \n",
       "2  Raw, cooked or prepared food is adulterated, c...      Critical    16   \n",
       "3  Personal cleanliness inadequate. Outer garment...      Critical    16   \n",
       "4  Non-food contact surface improperly constructe...  Not Critical    16   \n",
       "\n",
       "  GRADE  GRADE DATE RECORD DATE                        INSPECTION TYPE  \n",
       "0     A  12/30/2014  02/12/2015       Cycle Inspection / Re-inspection  \n",
       "1     A  12/30/2014  02/12/2015       Cycle Inspection / Re-inspection  \n",
       "2   NaN         NaN  02/12/2015  Cycle Inspection / Initial Inspection  \n",
       "3   NaN         NaN  02/12/2015  Cycle Inspection / Initial Inspection  \n",
       "4   NaN         NaN  02/12/2015  Cycle Inspection / Initial Inspection  "
      ]
     },
     "execution_count": 335,
     "metadata": {},
     "output_type": "execute_result"
    }
   ],
   "source": [
    "# Importing pandas and numpy for data wrangling\n",
    "import pandas as pd\n",
    "import numpy as np\n",
    "\n",
    "#read csv file\n",
    "df = pd.read_csv('NYC_Restaurants.csv', dtype=str, index_col=0)\n",
    "\n",
    "#check data\n",
    "df.head(5)"
   ]
  },
  {
   "cell_type": "markdown",
   "id": "776fda5c",
   "metadata": {},
   "source": [
    "### Q1. Create a unique name for each restaurant."
   ]
  },
  {
   "cell_type": "code",
   "execution_count": 336,
   "id": "8fb00de0",
   "metadata": {},
   "outputs": [
    {
     "data": {
      "text/plain": [
       "0           WENDY'S 469 FLATBUSH AVENUE 11225 BROOKLYN\n",
       "1           WENDY'S 469 FLATBUSH AVENUE 11225 BROOKLYN\n",
       "2           WENDY'S 469 FLATBUSH AVENUE 11225 BROOKLYN\n",
       "3           WENDY'S 469 FLATBUSH AVENUE 11225 BROOKLYN\n",
       "4           WENDY'S 469 FLATBUSH AVENUE 11225 BROOKLYN\n",
       "5        TOV KOSHER KITCHEN 97-22 63 ROAD 11374 QUEENS\n",
       "6        TOV KOSHER KITCHEN 97-22 63 ROAD 11374 QUEENS\n",
       "7        TOV KOSHER KITCHEN 97-22 63 ROAD 11374 QUEENS\n",
       "8        TOV KOSHER KITCHEN 97-22 63 ROAD 11374 QUEENS\n",
       "9    BRUNOS ON THE BOULEVARD 8825 ASTORIA BOULEVARD...\n",
       "Name: RESTAURANT, dtype: object"
      ]
     },
     "execution_count": 336,
     "metadata": {},
     "output_type": "execute_result"
    }
   ],
   "source": [
    "#concat all required columns\n",
    "df['RESTAURANT'] = df['DBA']+ ' '+ df['BUILDING']+ ' '+ df['STREET']+ ' '+ df['ZIPCODE']+ ' '+ df['BORO']\n",
    "\n",
    "#get the top 10 rows\n",
    "df['RESTAURANT'].iloc[:10]"
   ]
  },
  {
   "cell_type": "markdown",
   "id": "3e477705",
   "metadata": {},
   "source": [
    "### Q2. How many restaurants are included in the data?"
   ]
  },
  {
   "cell_type": "code",
   "execution_count": 337,
   "id": "72223735",
   "metadata": {},
   "outputs": [
    {
     "name": "stdout",
     "output_type": "stream",
     "text": [
      "10114\n"
     ]
    }
   ],
   "source": [
    "#get count of unique restaurants\n",
    "restaurant_cnt= len(df['RESTAURANT'].drop_duplicates())\n",
    "print(restaurant_cnt)"
   ]
  },
  {
   "cell_type": "markdown",
   "id": "37f12a16",
   "metadata": {},
   "source": [
    "### Q3. How many chains are there? "
   ]
  },
  {
   "cell_type": "code",
   "execution_count": 338,
   "id": "b632a49f",
   "metadata": {},
   "outputs": [],
   "source": [
    "# dropping duplicate restaurant names\n",
    "agg = pd.DataFrame(df[['DBA','BORO','RESTAURANT', 'BUILDING' , 'STREET', 'ZIPCODE']].drop_duplicates()['DBA'].value_counts())"
   ]
  },
  {
   "cell_type": "code",
   "execution_count": 339,
   "id": "5cd495ed",
   "metadata": {},
   "outputs": [
    {
     "data": {
      "text/plain": [
       "368"
      ]
     },
     "execution_count": 339,
     "metadata": {},
     "output_type": "execute_result"
    }
   ],
   "source": [
    "# count of chains\n",
    "chains = agg[agg['DBA']>=2]\n",
    "chains_cnt=len(chains)\n",
    "chains_cnt"
   ]
  },
  {
   "cell_type": "markdown",
   "id": "f8396b23",
   "metadata": {},
   "source": [
    "### Q4. Plot a bar graph of the top 20 most popular chains."
   ]
  },
  {
   "cell_type": "code",
   "execution_count": 340,
   "id": "3b3b0450",
   "metadata": {},
   "outputs": [
    {
     "data": {
      "text/plain": [
       "<AxesSubplot:>"
      ]
     },
     "execution_count": 340,
     "metadata": {},
     "output_type": "execute_result"
    },
    {
     "data": {
      "image/png": "[encoded data removed]",
      "text/plain": [
       "<Figure size 432x288 with 1 Axes>"
      ]
     },
     "metadata": {
      "needs_background": "light"
     },
     "output_type": "display_data"
    }
   ],
   "source": [
    "# getting bar plots\n",
    "chains.iloc[:20].plot(kind ='bar')"
   ]
  },
  {
   "cell_type": "markdown",
   "id": "ce9488e3",
   "metadata": {},
   "source": [
    "### Q5.What fraction of all restaurants are chain restaurants?"
   ]
  },
  {
   "cell_type": "code",
   "execution_count": 341,
   "id": "8f8188ca",
   "metadata": {},
   "outputs": [
    {
     "name": "stdout",
     "output_type": "stream",
     "text": [
      "0.16472216729286138\n"
     ]
    }
   ],
   "source": [
    "# calculate fraction of chain restaurants to total\n",
    "chain_restaurants_total_cnt=chains['DBA'].sum()\n",
    "fraction_of_chain_restaurants = chain_restaurants_total_cnt/restaurant_cnt\n",
    "print(fraction_of_chain_restaurants)"
   ]
  },
  {
   "cell_type": "markdown",
   "id": "1808f866",
   "metadata": {},
   "source": [
    "### Q6. Plot the number of non-chain restaurants in each boro."
   ]
  },
  {
   "cell_type": "code",
   "execution_count": 342,
   "id": "4a647586",
   "metadata": {},
   "outputs": [
    {
     "data": {
      "text/plain": [
       "<AxesSubplot:>"
      ]
     },
     "execution_count": 342,
     "metadata": {},
     "output_type": "execute_result"
    },
    {
     "data": {
      "image/png": "[encoded data removed]",
      "text/plain": [
       "<Figure size 432x288 with 1 Axes>"
      ]
     },
     "metadata": {
      "needs_background": "light"
     },
     "output_type": "display_data"
    }
   ],
   "source": [
    "non_chain_restaurants_count= agg[agg['DBA']<2].reset_index()\n",
    "\n",
    "#merge dataframes to get column for counts of non chain restaurants\n",
    "non_chain_restaurants = df.merge(non_chain_restaurants_count,how='inner', left_on='DBA',right_on='index')\n",
    "non_chain_restaurants_by_boro = non_chain_restaurants[non_chain_restaurants['BORO']!='Missing'][['BORO','RESTAURANT']].drop_duplicates()\n",
    "\n",
    "#plot non chain restaurants in each boro\n",
    "non_chain_restaurants_by_boro['BORO'].value_counts().plot(kind='bar')"
   ]
  },
  {
   "cell_type": "markdown",
   "id": "29dc8097",
   "metadata": {},
   "source": [
    "### Q7. Plot the fraction of non-chain restaurants in each boro."
   ]
  },
  {
   "cell_type": "code",
   "execution_count": 343,
   "id": "450b927d",
   "metadata": {},
   "outputs": [],
   "source": [
    "#drop rows where boro='Missing'\n",
    "restaurants_by_boro = df[['BORO', 'RESTAURANT']][df['BORO']!='Missing'].drop_duplicates()\n",
    "\n",
    "#get total number of restaurants\n",
    "restaurants_count_by_boro = restaurants_by_boro.groupby('BORO')['RESTAURANT'].size().reset_index(name='Total restaurants')"
   ]
  },
  {
   "cell_type": "code",
   "execution_count": 344,
   "id": "c466d50e",
   "metadata": {},
   "outputs": [],
   "source": [
    "#get number of non chain restaurants\n",
    "non_chain_restaurants_by_boro_count = non_chain_restaurants_by_boro.groupby('BORO')['RESTAURANT'].size().reset_index(name='Non chain restaurant count')"
   ]
  },
  {
   "cell_type": "code",
   "execution_count": 345,
   "id": "b85cb5ce",
   "metadata": {},
   "outputs": [
    {
     "data": {
      "text/plain": [
       "<AxesSubplot:xlabel='BORO'>"
      ]
     },
     "execution_count": 345,
     "metadata": {},
     "output_type": "execute_result"
    },
    {
     "data": {
      "image/png": "[encoded data removed]",
      "text/plain": [
       "<Figure size 432x288 with 1 Axes>"
      ]
     },
     "metadata": {
      "needs_background": "light"
     },
     "output_type": "display_data"
    }
   ],
   "source": [
    "#merge dataframes to get total and non-chain count of restaurants\n",
    "nonchain_and_total_rest_by_boro= restaurants_count_by_boro.merge(non_chain_restaurants_by_boro_count, how='inner', left_on='BORO', right_on ='BORO')\n",
    "nonchain_and_total_rest_by_boro['Non chain fraction'] = nonchain_and_total_rest_by_boro['Non chain restaurant count']/nonchain_and_total_rest_by_boro['Total restaurants']\n",
    "\n",
    "#plot the non chain fractions for each boro\n",
    "nonchain_and_total_rest_by_boro.set_index('BORO')['Non chain fraction'].plot(kind = 'bar')"
   ]
  },
  {
   "cell_type": "code",
   "execution_count": 346,
   "id": "c3c6315c",
   "metadata": {},
   "outputs": [
    {
     "data": {
      "text/html": [
       "<div>\n",
       "<style scoped>\n",
       "    .dataframe tbody tr th:only-of-type {\n",
       "        vertical-align: middle;\n",
       "    }\n",
       "\n",
       "    .dataframe tbody tr th {\n",
       "        vertical-align: top;\n",
       "    }\n",
       "\n",
       "    .dataframe thead th {\n",
       "        text-align: right;\n",
       "    }\n",
       "</style>\n",
       "<table border=\"1\" class=\"dataframe\">\n",
       "  <thead>\n",
       "    <tr style=\"text-align: right;\">\n",
       "      <th></th>\n",
       "      <th>BORO</th>\n",
       "      <th>Non chain restaurant count</th>\n",
       "      <th>Non chain fraction</th>\n",
       "    </tr>\n",
       "  </thead>\n",
       "  <tbody>\n",
       "    <tr>\n",
       "      <th>0</th>\n",
       "      <td>BRONX</td>\n",
       "      <td>659</td>\n",
       "      <td>0.770760</td>\n",
       "    </tr>\n",
       "    <tr>\n",
       "      <th>1</th>\n",
       "      <td>BROOKLYN</td>\n",
       "      <td>2180</td>\n",
       "      <td>0.862001</td>\n",
       "    </tr>\n",
       "    <tr>\n",
       "      <th>2</th>\n",
       "      <td>MANHATTAN</td>\n",
       "      <td>3323</td>\n",
       "      <td>0.830542</td>\n",
       "    </tr>\n",
       "    <tr>\n",
       "      <th>3</th>\n",
       "      <td>QUEENS</td>\n",
       "      <td>1968</td>\n",
       "      <td>0.847910</td>\n",
       "    </tr>\n",
       "    <tr>\n",
       "      <th>4</th>\n",
       "      <td>STATEN ISLAND</td>\n",
       "      <td>312</td>\n",
       "      <td>0.791878</td>\n",
       "    </tr>\n",
       "  </tbody>\n",
       "</table>\n",
       "</div>"
      ],
      "text/plain": [
       "            BORO  Non chain restaurant count  Non chain fraction\n",
       "0          BRONX                         659            0.770760\n",
       "1       BROOKLYN                        2180            0.862001\n",
       "2      MANHATTAN                        3323            0.830542\n",
       "3         QUEENS                        1968            0.847910\n",
       "4  STATEN ISLAND                         312            0.791878"
      ]
     },
     "execution_count": 346,
     "metadata": {},
     "output_type": "execute_result"
    }
   ],
   "source": [
    "# get fraction of non-chain restaurants to the total number of restaurants in the boro\n",
    "nonchain_and_total_rest_by_boro[['BORO','Non chain restaurant count','Non chain fraction']].head()"
   ]
  },
  {
   "cell_type": "markdown",
   "id": "eea409c2",
   "metadata": {},
   "source": [
    "No, we see that Brooklyn has the highest ratio for number of non-chain restaurants to the total number of restaurants in the boro. But Manhattan has the highest number of non-chain restaurants"
   ]
  },
  {
   "cell_type": "markdown",
   "id": "54d6ffcb",
   "metadata": {},
   "source": [
    "### Q8. Plot the popularity of cuisines."
   ]
  },
  {
   "cell_type": "code",
   "execution_count": 347,
   "id": "d7839d5e",
   "metadata": {},
   "outputs": [
    {
     "data": {
      "text/plain": [
       "<AxesSubplot:>"
      ]
     },
     "execution_count": 347,
     "metadata": {},
     "output_type": "execute_result"
    },
    {
     "data": {
      "image/png": "[encoded data removed]",
      "text/plain": [
       "<Figure size 432x288 with 1 Axes>"
      ]
     },
     "metadata": {
      "needs_background": "light"
     },
     "output_type": "display_data"
    }
   ],
   "source": [
    "#get top 20 cuisines by popularity\n",
    "\n",
    "#drop duplicates from the df\n",
    "cuisine_by_restaurants= df[['CUISINE DESCRIPTION','RESTAURANT']].drop_duplicates()\n",
    "cuisine_by_restaurants['CUISINE DESCRIPTION'].value_counts().iloc[:20].plot(kind='bar')"
   ]
  },
  {
   "cell_type": "markdown",
   "id": "02ffe75a",
   "metadata": {},
   "source": [
    "### Q9. Plot the cuisines among restaurants which never got cited for violations."
   ]
  },
  {
   "cell_type": "code",
   "execution_count": 348,
   "id": "c00da698",
   "metadata": {},
   "outputs": [
    {
     "data": {
      "text/plain": [
       "<AxesSubplot:>"
      ]
     },
     "execution_count": 348,
     "metadata": {},
     "output_type": "execute_result"
    },
    {
     "data": {
      "image/png": "[encoded data removed]",
      "text/plain": [
       "<Figure size 432x288 with 1 Axes>"
      ]
     },
     "metadata": {
      "needs_background": "light"
     },
     "output_type": "display_data"
    }
   ],
   "source": [
    "#restaurants which have violations\n",
    "violations = df[df['VIOLATION CODE'].notnull()]['RESTAURANT'].drop_duplicates()\n",
    "\n",
    "#get restaurants which never got cited for violations\n",
    "no_violation_restaurants = df[~df['RESTAURANT'].isin(violations)]['RESTAURANT'].drop_duplicates()\n",
    "\n",
    "cuisines_for_clean_restaurants=df[df['RESTAURANT'].isin(no_violation_restaurants)][['CUISINE DESCRIPTION','RESTAURANT']].drop_duplicates()\n",
    "cuisines_for_clean_restaurants_cnt = cuisines_for_clean_restaurants['CUISINE DESCRIPTION'].value_counts()\n",
    "\n",
    "#get top 20 cusines for clean restaurants\n",
    "cuisines_for_clean_restaurants_cnt.iloc[:20].plot(kind='bar')"
   ]
  },
  {
   "cell_type": "markdown",
   "id": "71fe1e3d",
   "metadata": {},
   "source": [
    "### Q10. What cuisines tend to be the “cleanest”?"
   ]
  },
  {
   "cell_type": "code",
   "execution_count": 349,
   "id": "70686ad1",
   "metadata": {},
   "outputs": [
    {
     "data": {
      "text/plain": [
       "34                        Soul Food\n",
       "40    Vietnamese/Cambodian/Malaysia\n",
       "27                            Other\n",
       "35               Soups & Sandwiches\n",
       "10                      Continental\n",
       "4                          Barbecue\n",
       "1                             Asian\n",
       "8                           Chinese\n",
       "14                            Greek\n",
       "28                         Peruvian\n",
       "Name: CUISINE DESCRIPTION, dtype: object"
      ]
     },
     "execution_count": 349,
     "metadata": {},
     "output_type": "execute_result"
    }
   ],
   "source": [
    "cuisine_by_restaurants_cnt=cuisine_by_restaurants.groupby('CUISINE DESCRIPTION').size().reset_index(name='No of Restaurants')\n",
    "\n",
    "# get all cuisines for which there were at least 20 restaurants representing that cuisine\n",
    "cuisine_by_restaurant_cnt_top_20=cuisine_by_restaurants_cnt[cuisine_by_restaurants_cnt['No of Restaurants']>=20]\n",
    "\n",
    "cuisines_for_clean_restaurants_cnt = cuisines_for_clean_restaurants.groupby('CUISINE DESCRIPTION').size().reset_index(name='No of clean Restaurants')\n",
    "merged_df=cuisine_by_restaurant_cnt_top_20.merge(cuisines_for_clean_restaurants_cnt, how='inner', left_on ='CUISINE DESCRIPTION', right_on='CUISINE DESCRIPTION')\n",
    "\n",
    "# get ratio of restaurants that never got cited, versus total number of restaurants, for each cuisine\n",
    "merged_df['Ratio'] = merged_df['No of clean Restaurants']/ merged_df['No of Restaurants']\n",
    "\n",
    "#top-10 cuisines with the highest ratios\n",
    "merged_df.sort_values(by='Ratio', ascending=False)['CUISINE DESCRIPTION'].iloc[:10]"
   ]
  },
  {
   "cell_type": "markdown",
   "id": "2e37f1b6",
   "metadata": {},
   "source": [
    "### Q11. What are the most common violations in each borough?"
   ]
  },
  {
   "cell_type": "code",
   "execution_count": 350,
   "id": "2d83e611",
   "metadata": {},
   "outputs": [
    {
     "data": {
      "text/plain": [
       "BORO\n",
       "BRONX            Non-food contact surface improperly constructe...\n",
       "BROOKLYN         Non-food contact surface improperly constructe...\n",
       "MANHATTAN        Non-food contact surface improperly constructe...\n",
       "QUEENS           Non-food contact surface improperly constructe...\n",
       "STATEN ISLAND    Non-food contact surface improperly constructe...\n",
       "dtype: object"
      ]
     },
     "execution_count": 350,
     "metadata": {},
     "output_type": "execute_result"
    }
   ],
   "source": [
    "#remove 'Missing' boro's\n",
    "df_without_missing_boro = df[df['BORO']!='Missing']\n",
    "\n",
    "#create required crosstab table\n",
    "violation_code_by_boro=pd.crosstab(index=df_without_missing_boro['VIOLATION DESCRIPTION'], columns=df_without_missing_boro['BORO'])\n",
    "\n",
    "#use idx max to get most common violations\n",
    "violation_code_by_boro.idxmax()"
   ]
  },
  {
   "cell_type": "markdown",
   "id": "78bc7105",
   "metadata": {},
   "source": [
    "### Q12. What are the most common violations per borough, after normalizing for the relative abundance of each violation?"
   ]
  },
  {
   "cell_type": "code",
   "execution_count": 351,
   "id": "bf000224",
   "metadata": {},
   "outputs": [],
   "source": [
    "#function to get max values from the crosstab table\n",
    "def extract_max_from_crosstab(df, value):\n",
    "    df2 = df[df[value] == max(df[value])]\n",
    "    return df2.index.tolist()"
   ]
  },
  {
   "cell_type": "code",
   "execution_count": 352,
   "id": "f3973a01",
   "metadata": {},
   "outputs": [],
   "source": [
    "#find violation frequencies\n",
    "violationFrequency = df_without_missing_boro['VIOLATION DESCRIPTION'].value_counts()\n",
    "\n",
    "#normalizing values\n",
    "violation_code_by_boro_normalized=violation_code_by_boro.divide(violationFrequency, axis=0)"
   ]
  },
  {
   "cell_type": "code",
   "execution_count": 353,
   "id": "03f2120a",
   "metadata": {},
   "outputs": [],
   "source": [
    "list_of_boros = df['BORO'].unique().tolist()\n",
    "\n",
    "# removing missing borough\n",
    "list_of_boros.remove('Missing')"
   ]
  },
  {
   "cell_type": "code",
   "execution_count": 354,
   "id": "42c8183c",
   "metadata": {},
   "outputs": [
    {
     "name": "stdout",
     "output_type": "stream",
     "text": [
      "Borough Name: BROOKLYN\n",
      "count of violations: 1 \n",
      "Details of violations:\n",
      "['Precooked potentially hazardous food from commercial food processing establishment that is supposed to be heated, but is not heated to 140º F within 2 hours.']\n",
      "Borough Name: QUEENS\n",
      "count of violations: 3 \n",
      "Details of violations:\n",
      "['Caloric content range (minimum to maximum) not posted on menus and or menu boards for each flavor, variety and size of each menu item that is offered for sale in different flavors, varieties and sizes.', 'Harmful, noxious gas or vapor detected. CO ~1 3 ppm.', 'Raw food not properly washed prior to serving.']\n",
      "Borough Name: MANHATTAN\n",
      "count of violations: 2 \n",
      "Details of violations:\n",
      "['Out-of package sale of tobacco products observed.', 'Potable water supply inadequate. Water or ice not potable or from unapproved source.  Cross connection in potable water supply system observed.']\n",
      "Borough Name: BRONX\n",
      "count of violations: 1 \n",
      "Details of violations:\n",
      "['Unprotected food re-served.']\n",
      "Borough Name: STATEN ISLAND\n",
      "count of violations: 1 \n",
      "Details of violations:\n",
      "['Eggs found dirty/cracked; liquid, frozen or powdered eggs not pasteurized.']\n"
     ]
    }
   ],
   "source": [
    "# Getting the list of unique boros and extracting the max value of normalized violations for each\n",
    "for boro in list_of_boros:\n",
    "    print('Borough Name:',boro)\n",
    "    list_of_violations = extract_max_from_crosstab(violation_code_by_boro_normalized, boro)\n",
    "    print('count of violations:', len(list_of_violations), '\\nDetails of violations:')\n",
    "    print(list_of_violations)"
   ]
  },
  {
   "cell_type": "markdown",
   "id": "b7c98470",
   "metadata": {},
   "source": [
    "### Q13. How many phone area codes correspond to a single zipcode?"
   ]
  },
  {
   "cell_type": "code",
   "execution_count": 355,
   "id": "f2debcf3",
   "metadata": {},
   "outputs": [
    {
     "data": {
      "text/plain": [
       "34"
      ]
     },
     "execution_count": 355,
     "metadata": {},
     "output_type": "execute_result"
    }
   ],
   "source": [
    "#get area code\n",
    "df['Area Code']=df['PHONE'].str[:3]\n",
    "\n",
    "#get group by count for each area code-zip code\n",
    "areacode_by_zip= df[['Area Code', 'ZIPCODE']].drop_duplicates()\n",
    "areacode_by_zip_cnt = areacode_by_zip.groupby('Area Code').size().reset_index(name='Count')\n",
    "\n",
    "#get number of area codes which correspond to only a single zip code\n",
    "len(areacode_by_zip_cnt[areacode_by_zip_cnt['Count']==1])"
   ]
  },
  {
   "cell_type": "markdown",
   "id": "2f569c37",
   "metadata": {},
   "source": [
    "### Q14. Find common misspellings of street names"
   ]
  },
  {
   "cell_type": "code",
   "execution_count": 356,
   "id": "8398a4dd",
   "metadata": {},
   "outputs": [],
   "source": [
    "nyc_rest_data = df"
   ]
  },
  {
   "cell_type": "code",
   "execution_count": 357,
   "id": "d2b7a13a",
   "metadata": {},
   "outputs": [],
   "source": [
    "# creating columns for street type, base and zip\n",
    "nyc_rest_data['STREET TYPE'] = nyc_rest_data['STREET'].str.split(' ').str[-1]"
   ]
  },
  {
   "cell_type": "code",
   "execution_count": 358,
   "id": "676fd889",
   "metadata": {},
   "outputs": [],
   "source": [
    "nyc_rest_data['STREET BASE'] = nyc_rest_data['STREET'].str.split(' ').map(lambda x:' '.join(x[:-1]))"
   ]
  },
  {
   "cell_type": "code",
   "execution_count": 359,
   "id": "d7071709",
   "metadata": {},
   "outputs": [],
   "source": [
    "nyc_rest_data['STREET BASE & ZIP'] = nyc_rest_data['STREET BASE'] + ' ' + nyc_rest_data['ZIPCODE']"
   ]
  },
  {
   "cell_type": "code",
   "execution_count": 360,
   "id": "912ef3ff",
   "metadata": {},
   "outputs": [],
   "source": [
    "nyc_rest_street_data =  nyc_rest_data[['STREET TYPE', 'STREET BASE', 'STREET BASE & ZIP']].drop_duplicates()\n",
    "# nyc_rest_street_data"
   ]
  },
  {
   "cell_type": "code",
   "execution_count": 361,
   "id": "9ee8bec4",
   "metadata": {},
   "outputs": [],
   "source": [
    "# checking if street data is NULL/blank anywhere\n",
    "blank_street_base = nyc_rest_street_data[(nyc_rest_street_data['STREET BASE'] == np.nan) | (nyc_rest_street_data['STREET BASE'] == '') |\n",
    "                    (nyc_rest_street_data['STREET BASE'] == ' ')].index"
   ]
  },
  {
   "cell_type": "code",
   "execution_count": 362,
   "id": "5ffff115",
   "metadata": {},
   "outputs": [],
   "source": [
    "nyc_idx = nyc_rest_street_data.index.tolist()"
   ]
  },
  {
   "cell_type": "code",
   "execution_count": 363,
   "id": "cab324e5",
   "metadata": {},
   "outputs": [],
   "source": [
    "blank_street_base_idx = blank_street_base.tolist()"
   ]
  },
  {
   "cell_type": "code",
   "execution_count": 364,
   "id": "b9e61ea4",
   "metadata": {},
   "outputs": [
    {
     "name": "stderr",
     "output_type": "stream",
     "text": [
      "C:\\Users\\aishw\\AppData\\Local\\Temp\\ipykernel_24492\\903394350.py:1: FutureWarning: Passing a set as an indexer is deprecated and will raise in a future version. Use a list instead.\n",
      "  nyc_rest_street_data_clean = nyc_rest_street_data.loc[set(nyc_idx).difference(set(blank_street_base_idx))]\n"
     ]
    }
   ],
   "source": [
    "nyc_rest_street_data_clean = nyc_rest_street_data.loc[set(nyc_idx).difference(set(blank_street_base_idx))]"
   ]
  },
  {
   "cell_type": "code",
   "execution_count": 365,
   "id": "dbe9930a",
   "metadata": {},
   "outputs": [],
   "source": [
    "nyc_street_data_merged = nyc_rest_street_data_clean.merge(nyc_rest_street_data_clean, left_on=['STREET BASE & ZIP'], right_on=['STREET BASE & ZIP'],\n",
    "                                                    suffixes=['_left', '_right'])"
   ]
  },
  {
   "cell_type": "code",
   "execution_count": 366,
   "id": "fdb2facd",
   "metadata": {},
   "outputs": [],
   "source": [
    "nyc_street_data_merged_diff = nyc_street_data_merged[nyc_street_data_merged['STREET TYPE_left'] != nyc_street_data_merged['STREET TYPE_right']]"
   ]
  },
  {
   "cell_type": "code",
   "execution_count": 367,
   "id": "c1fab699",
   "metadata": {},
   "outputs": [],
   "source": [
    "crosstab = pd.crosstab(nyc_street_data_merged_diff['STREET TYPE_left'], nyc_street_data_merged_diff['STREET TYPE_right'])"
   ]
  },
  {
   "cell_type": "code",
   "execution_count": 368,
   "id": "982427fe",
   "metadata": {},
   "outputs": [],
   "source": [
    "crosstab_reset = crosstab.reset_index()"
   ]
  },
  {
   "cell_type": "code",
   "execution_count": 369,
   "id": "6a018209",
   "metadata": {},
   "outputs": [],
   "source": [
    "list_of_acronyms_to_check = ['ST', 'RD', 'PL', 'BOULEARD', 'BULEVARD']"
   ]
  },
  {
   "cell_type": "code",
   "execution_count": 370,
   "id": "089ef39a",
   "metadata": {},
   "outputs": [
    {
     "name": "stdout",
     "output_type": "stream",
     "text": [
      "ST\n",
      "['STREET']\n",
      "RD\n",
      "['ROAD']\n",
      "PL\n",
      "['PLACE']\n",
      "BOULEARD\n",
      "['BLVD' 'BOULEVARD']\n",
      "BULEVARD\n",
      "['BLVD' 'BOULEVARD']\n"
     ]
    }
   ],
   "source": [
    "# Getting the max value for each acronym\n",
    "for acr in list_of_acronyms_to_check:\n",
    "    print(acr)\n",
    "    print(crosstab_reset.iloc[extract_max_from_crosstab(crosstab_reset, acr)]['STREET TYPE_left'].values)"
   ]
  }
 ],
 "metadata": {
  "kernelspec": {
   "display_name": "Python 3 (ipykernel)",
   "language": "python",
   "name": "python3"
  },
  "language_info": {
   "codemirror_mode": {
    "name": "ipython",
    "version": 3
   },
   "file_extension": ".py",
   "mimetype": "text/x-python",
   "name": "python",
   "nbconvert_exporter": "python",
   "pygments_lexer": "ipython3",
   "version": "3.9.12"
  }
 },
 "nbformat": 4,
 "nbformat_minor": 5
}
